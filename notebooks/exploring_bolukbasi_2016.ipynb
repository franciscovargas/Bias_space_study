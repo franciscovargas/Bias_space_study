{
 "cells": [
  {
   "cell_type": "code",
   "execution_count": 1,
   "metadata": {},
   "outputs": [],
   "source": [
    "import numpy as np\n",
    "import numpy.linalg as la\n",
    "import matplotlib.pyplot as plt\n",
    "import io\n",
    "from L101_utils.data_paths import wikift, bolu_gender_specific, bolu_equalize_pairs, googlew2v, bolu_definitional_pairs, googlew2vtxt\n",
    "from L101_utils.mock_model import MockModel\n",
    "from copy import deepcopy"
   ]
  },
  {
   "cell_type": "code",
   "execution_count": 2,
   "metadata": {},
   "outputs": [
    {
     "name": "stdout",
     "output_type": "stream",
     "text": [
      "['c:\\\\users\\\\user\\\\desktop\\\\coursework\\\\nlp\\\\l101_bias_space_study\\\\data\\\\GoogleNews-vectors-negative300'] bin\n"
     ]
    }
   ],
   "source": [
    "emb = MockModel.from_file(googlew2v, mock=False)"
   ]
  },
  {
   "cell_type": "code",
   "execution_count": 3,
   "metadata": {},
   "outputs": [],
   "source": [
    "emb.vectors = emb.vectors / np.linalg.norm(emb.vectors,  axis=1)[..., None]"
   ]
  },
  {
   "cell_type": "code",
   "execution_count": 4,
   "metadata": {},
   "outputs": [],
   "source": [
    "import json\n",
    "\n",
    "\n",
    "def get_pc_projection_boluk(X, k=1, mean_rev=True):\n",
    "    \n",
    "    mean_rev = int(mean_rev)\n",
    "    n, d = X.shape\n",
    "#     import pdb; pdb.set_trace()\n",
    "    X = X - mean_rev * X.mean(axis=0)\n",
    "    C = (X.T.dot(X) / n)\n",
    "    D, V = la.eigh(C)\n",
    "    V = V[:, :k]\n",
    "    return V.dot(V.T), V\n",
    "\n",
    "\n",
    "def create_nu_boluk(X, P):\n",
    "    mu = X.mean(axis=0)\n",
    "    nu = mu - P.dot(mu)\n",
    "    return nu, P.dot(mu)\n",
    "\n",
    "\n",
    "def equalize_boluk(E, P, N=None, debug=True, test_vec=None):\n",
    "    nu, mu_b = create_nu_boluk(E, P)\n",
    "    if debug:\n",
    "        print(np.linalg.norm(E, axis=1))\n",
    "    \n",
    "    E = E.dot(P) - 0 * mu_b\n",
    "    import pdb; pdb.set_trace()\n",
    "    if debug:\n",
    "        print(np.linalg.norm(E, axis=1))\n",
    "#         plt.imshow(np.abs(P))\n",
    "        print(np.min(P.ravel()), np.max(P.ravel()))\n",
    "\n",
    "    E /= np.linalg.norm(E, axis=1)[..., None]\n",
    "    \n",
    "    v = np.linalg.norm(nu)\n",
    "    fac = np.sqrt(1 - v**2)\n",
    "    remb = nu +  fac * E\n",
    "    \n",
    "    if debug:\n",
    "        print(np.linalg.norm(E,axis=1))\n",
    "        print(np.linalg.norm(remb, axis=1))\n",
    "        print(fac)\n",
    "    \n",
    "    return remb, E\n",
    "\n",
    "\n",
    "def neutralise_boluk(X, P):\n",
    "    print(\"start neutralise\")\n",
    "    I = np.eye(P.shape[0])\n",
    "    out =  X.dot( (I - P).T )\n",
    "    print(\"done matrix mult (neutralise)\", out.shape)\n",
    "    return out\n",
    "\n",
    "\n",
    "def generate_subspace_projection(emb,\n",
    "                                 pair_file=bolu_definitional_pairs,\n",
    "                                 n_components=1):\n",
    "    with open(pair_file, \"r\") as f:\n",
    "        pairs = json.load(f)\n",
    "    \n",
    "    matrix = []\n",
    "    for a, b in pairs:\n",
    "        center = (emb.vectors[emb.vocab[a.lower()].index] + emb.vectors[emb.vocab[b.lower()].index])/2\n",
    "#         import pdb; pdb.set_trace()\n",
    "        matrix.append(emb.vectors[emb.vocab[a.lower()].index] - center)\n",
    "        matrix.append(emb.vectors[emb.vocab[b.lower()].index] - center)\n",
    "        \n",
    "    matrix = np.asarray(matrix)\n",
    "#     import pdb; pdb.set_trace()\n",
    "    P, V = get_pc_projection_boluk(matrix, k=n_components)\n",
    "    assert (P == P.T).all()\n",
    "#     import pdb; pdb.set_trace()\n",
    "    return P, V\n",
    "\n",
    "\n",
    "def hard_debiase(emb,\n",
    "                 gender_specific_file=bolu_gender_specific,\n",
    "                 equalize_pair_file=bolu_equalize_pairs,\n",
    "                 def_pair_file=bolu_definitional_pairs,\n",
    "                 n_components=1):\n",
    "    \n",
    "#     emb = deepcopy(emb)\n",
    "    \n",
    "    print(\"projection started\")\n",
    "    P, V = generate_subspace_projection(emb, def_pair_file, n_components)\n",
    "    print(\"projection done\")\n",
    "    \n",
    "    with open(gender_specific_file, \"r\") as f:\n",
    "        gendered_words = set(json.load(f))\n",
    "    \n",
    "    print(\"neutralisation started\")\n",
    "    all_words = set(emb.vocab.keys())\n",
    "    neutral_words = all_words - gendered_words\n",
    "    print(\"getting indices should be fast\")\n",
    "    indices = [emb.vocab[k].index for k in neutral_words[0:10000]]\n",
    "    print(\"created neutral word set\", len(neutral_words))\n",
    "    neutral = emb.vectors[indices,:]\n",
    "    print(\"done indexing into neutral embs\")\n",
    "    test = neutralise_boluk(neutral, P)\n",
    "    emb.vectors[indices,:] = test\n",
    "    print(\"neutralisation done\")\n",
    "    \n",
    "    with open(bolu_equalize_pairs, \"r\") as f:\n",
    "        equalize_words = json.load(f)\n",
    "    \n",
    "    candidates = {x for e1, e2 in equalize_words for x in [(e1.lower(), e2.lower()),\n",
    "                                                           (e1.title(), e2.title()),\n",
    "                                                           (e1.upper(), e2.upper())]}\n",
    "    print(candidates, \"started equalising\")\n",
    "#     import pdb; pdb.set_trace()\n",
    "    for (e1, e2) in candidates:\n",
    "        if (e1 in all_words and e2 in all_words):\n",
    "            word2index  = [emb.vocab[e1].index, emb.vocab[e2].index]\n",
    "            E = emb.vectors[word2index,:]\n",
    "            remb, _ = equalize_boluk(E, P, debug=False, test_vec=test[0])\n",
    "            print(\"remb\", test[0].dot(remb.T))\n",
    "            print(np.sign(remb)[:, 0:10])\n",
    "            import pdb; pdb.set_trace()\n",
    "           \n",
    "            emb.vectors[word2index,:] = remb\n",
    "    return emb"
   ]
  },
  {
   "cell_type": "code",
   "execution_count": null,
   "metadata": {},
   "outputs": [
    {
     "name": "stdout",
     "output_type": "stream",
     "text": [
      "projection started\n",
      "projection done\n",
      "neutralisation started\n",
      "getting indices should be fast\n",
      "created neutral word set 2998559\n",
      "done indexing into neutral embs\n",
      "start neutralise\n",
      "done matrix mult (neutralise) (10000, 300)\n",
      "neutralisation done\n",
      "{('Ex_Girlfriend', 'Ex_Boyfriend'), ('MONASTERY', 'CONVENT'), ('His', 'Her'), ('CATHOLIC_PRIEST', 'NUN'), ('Brother', 'Sister'), ('CHAIRMAN', 'CHAIRWOMAN'), ('prostate_cancer', 'ovarian_cancer'), ('BROTHER', 'SISTER'), ('congressman', 'congresswoman'), ('EX_GIRLFRIEND', 'EX_BOYFRIEND'), ('FELLA', 'GRANNY'), ('Gelding', 'Mare'), ('son', 'daughter'), ('Businessman', 'Businesswoman'), ('Prince', 'Princess'), ('grandson', 'granddaughter'), ('prince', 'princess'), ('Monastery', 'Convent'), ('PRINCE', 'PRINCESS'), ('colt', 'filly'), ('Gentlemen', 'Ladies'), ('Kings', 'Queens'), ('dads', 'moms'), ('fathers', 'mothers'), ('CONGRESSMAN', 'CONGRESSWOMAN'), ('Dudes', 'Gals'), ('king', 'queen'), ('fraternity', 'sorority'), ('gentleman', 'lady'), ('wives', 'husbands'), ('Grandpa', 'Grandma'), ('sons', 'daughters'), ('fella', 'granny'), ('Sons', 'Daughters'), ('NEPHEW', 'NIECE'), ('GELDING', 'MARE'), ('HE', 'SHE'), ('Himself', 'Herself'), ('testosterone', 'estrogen'), ('grandfather', 'grandmother'), ('councilman', 'councilwoman'), ('BROTHERS', 'SISTERS'), ('Boys', 'Girls'), ('Son', 'Daughter'), ('brothers', 'sisters'), ('Fraternity', 'Sorority'), ('Males', 'Females'), ('TWIN_BROTHER', 'TWIN_SISTER'), ('King', 'Queen'), ('COLT', 'FILLY'), ('Nephew', 'Niece'), ('man', 'woman'), ('GRANDSONS', 'GRANDDAUGHTERS'), ('Colt', 'Filly'), ('UNCLE', 'AUNT'), ('Brothers', 'Sisters'), ('dudes', 'gals'), ('grandpa', 'grandma'), ('Fatherhood', 'Motherhood'), ('BOYS', 'GIRLS'), ('dad', 'mom'), ('Gentleman', 'Lady'), ('Schoolboy', 'Schoolgirl'), ('SON', 'DAUGHTER'), ('GRANDFATHER', 'GRANDMOTHER'), ('Grandfather', 'Grandmother'), ('PROSTATE_CANCER', 'OVARIAN_CANCER'), ('GENTLEMAN', 'LADY'), ('himself', 'herself'), ('Testosterone', 'Estrogen'), ('Wives', 'Husbands'), ('Grandson', 'Granddaughter'), ('MALES', 'FEMALES'), ('FATHER', 'MOTHER'), ('ex_girlfriend', 'ex_boyfriend'), ('Uncle', 'Aunt'), ('Dad', 'Mom'), ('businessman', 'businesswoman'), ('spokesman', 'spokeswoman'), ('his', 'her'), ('catholic_priest', 'nun'), ('TESTOSTERONE', 'ESTROGEN'), ('BUSINESSMAN', 'BUSINESSWOMAN'), ('Chairman', 'Chairwoman'), ('KING', 'QUEEN'), ('BOY', 'GIRL'), ('schoolboy', 'schoolgirl'), ('MEN', 'WOMEN'), ('SCHOOLBOY', 'SCHOOLGIRL'), ('MAN', 'WOMAN'), ('SONS', 'DAUGHTERS'), ('Fella', 'Granny'), ('grandsons', 'granddaughters'), ('Man', 'Woman'), ('males', 'females'), ('father', 'mother'), ('brother', 'sister'), ('GENTLEMEN', 'LADIES'), ('Dads', 'Moms'), ('GRANDPA', 'GRANDMA'), ('uncle', 'aunt'), ('gentlemen', 'ladies'), ('FATHERHOOD', 'MOTHERHOOD'), ('GRANDSON', 'GRANDDAUGHTER'), ('Boy', 'Girl'), ('Twin_Brother', 'Twin_Sister'), ('He', 'She'), ('FATHERS', 'MOTHERS'), ('twin_brother', 'twin_sister'), ('Prostate_Cancer', 'Ovarian_Cancer'), ('COUNCILMAN', 'COUNCILWOMAN'), ('Father', 'Mother'), ('HIMSELF', 'HERSELF'), ('male', 'female'), ('Councilman', 'Councilwoman'), ('MALE', 'FEMALE'), ('Congressman', 'Congresswoman'), ('monastery', 'convent'), ('boys', 'girls'), ('Fathers', 'Mothers'), ('Male', 'Female'), ('men', 'women'), ('Grandsons', 'Granddaughters'), ('DUDES', 'GALS'), ('DAD', 'MOM'), ('he', 'she'), ('chairman', 'chairwoman'), ('WIVES', 'HUSBANDS'), ('fatherhood', 'motherhood'), ('boy', 'girl'), ('kings', 'queens'), ('HIS', 'HER'), ('SPOKESMAN', 'SPOKESWOMAN'), ('Men', 'Women'), ('DADS', 'MOMS'), ('KINGS', 'QUEENS'), ('gelding', 'mare'), ('nephew', 'niece'), ('Catholic_Priest', 'Nun'), ('Spokesman', 'Spokeswoman'), ('FRATERNITY', 'SORORITY')} started equalising\n",
      "> <ipython-input-4-e25cbeb6f48b>(29)equalize_boluk()\n",
      "-> if debug:\n",
      "(Pdb) c\n",
      "remb [0.02714783 0.02714782]\n",
      "[[ 1. -1. -1.  1.  1.  1. -1. -1. -1.  1.]\n",
      " [ 1. -1. -1.  1.  1.  1. -1. -1. -1.  1.]]\n",
      "> <ipython-input-4-e25cbeb6f48b>(122)hard_debiase()\n",
      "-> emb.vectors[word2index,:] = remb\n",
      "(Pdb) V.shape\n",
      "(300, 1)\n",
      "(Pdb) E[0].dot(V)\n",
      "array([-0.03927454], dtype=float32)\n",
      "(Pdb) E[1].dot(V)\n",
      "array([-0.05551253], dtype=float32)\n",
      "(Pdb) E = emb.vectors[word2index,:]\n",
      "(Pdb) E[0].dot(V), E[1].dot(V)\n",
      "(array([-0.03927454], dtype=float32), array([-0.05551253], dtype=float32))\n"
     ]
    }
   ],
   "source": [
    "embnasius = hard_debiase(emb)"
   ]
  },
  {
   "cell_type": "code",
   "execution_count": null,
   "metadata": {},
   "outputs": [],
   "source": [
    "emb[set([\"hello\", \"punk\"])].shape"
   ]
  },
  {
   "cell_type": "markdown",
   "metadata": {},
   "source": [
    "\n",
    "\n",
    "\n",
    "\n",
    "\n",
    "\n",
    "\n",
    "\n",
    "\n"
   ]
  },
  {
   "cell_type": "markdown",
   "metadata": {},
   "source": [
    "\n",
    "\n",
    "\n",
    "\n",
    "\n",
    "\n",
    "\n",
    "\n",
    "\n",
    "\n",
    "\n",
    "\n",
    "\n",
    "\n",
    "\n",
    "\n",
    "\n",
    "\n",
    "\n",
    "\n",
    "\n",
    "\n",
    "\n",
    "\n",
    "\n",
    "\n",
    "\n",
    "\n",
    "\n",
    "\n",
    "\n",
    "\n",
    "\n",
    "\n",
    "\n",
    "\n",
    "\n",
    "\n",
    "\n",
    "\n",
    "\n",
    "\n",
    "\n",
    "\n",
    "\n",
    "\n"
   ]
  },
  {
   "cell_type": "code",
   "execution_count": null,
   "metadata": {},
   "outputs": [],
   "source": [
    "# Auxiliary functions\n",
    "\n",
    "\n",
    "def load_vectors(fname):\n",
    "    fin = io.open(fname, 'r', encoding='utf-8', newline='\\n', errors='ignore')\n",
    "    n, d = map(int, fin.readline().split())\n",
    "    data = {}\n",
    "    for i, line in enumerate(fin):\n",
    "        if i == 100000: break\n",
    "        tokens = line.rstrip().split(' ')\n",
    "        data[tokens[0]] = np.asarray(list(map(float, tokens[1:])))\n",
    "        data[tokens[0]] /=  np.linalg.norm(data[tokens[0]]) \n",
    "    return data\n",
    "\n",
    "\n",
    "X = load_vectors(wikift);"
   ]
  },
  {
   "cell_type": "code",
   "execution_count": null,
   "metadata": {},
   "outputs": [],
   "source": [
    "biased_dat = \"\"\"he, her, his, she, him, man, women, men, woman, spokesman, wife, himself, son, mother, father, chairman,\n",
    "daughter, husband, guy, girls, girl, boy, boys, brother, spokeswoman, female, sister, male, herself, brothers, dad,\n",
    "actress, mom, sons, girlfriend, daughters, lady, boyfriend, sisters, mothers, king, businessman, grandmother,\n",
    "grandfather, deer, ladies, uncle, males, congressman, grandson, bull, queen, businessmen, wives, widow,\n",
    "nephew, bride, females, aunt, prostate cancer, lesbian, chairwoman, fathers, moms, maiden, granddaughter,\n",
    "younger brother, lads, lion, gentleman, fraternity, bachelor, niece, bulls, husbands, prince, colt, salesman, hers,\n",
    "dude, beard, filly, princess, lesbians, councilman, actresses, gentlemen, stepfather, monks, ex girlfriend, lad,\n",
    "sperm, testosterone, nephews, maid, daddy, mare, fiance, fiancee, kings, dads, waitress, maternal, heroine,\n",
    "nieces, girlfriends, sir, stud, mistress, lions, estranged wife, womb, grandma, maternity, estrogen, ex boyfriend,\n",
    "widows, gelding, diva, teenage girls, nuns, czar, ovarian cancer, countrymen, teenage girl, penis, bloke, nun,\n",
    "brides, housewife, spokesmen, suitors, menopause, monastery, motherhood, brethren, stepmother, prostate,\n",
    "hostess, twin brother, schoolboy, brotherhood, fillies, stepson, congresswoman, uncles, witch, monk, viagra,\n",
    "paternity, suitor, sorority, macho, businesswoman, eldest son, gal, statesman, schoolgirl, fathered, goddess,\n",
    "hubby, stepdaughter, blokes, dudes, strongman, uterus, grandsons, studs, mama, godfather, hens, hen, mommy,\n",
    "estranged husband, elder brother, boyhood, baritone, grandmothers, grandpa, boyfriends, feminism, countryman,\n",
    "stallion, heiress, queens, witches, aunts, semen, fella, granddaughters, chap, widower, salesmen, convent,\n",
    "vagina, beau, beards, handyman, twin sister, maids, gals, housewives, horsemen, obstetrics, fatherhood,\n",
    "councilwoman, princes, matriarch, colts, ma, fraternities, pa, fellas, councilmen, dowry, barbershop, fraternal,\n",
    "ballerina\"\"\"\n",
    "\n",
    "biased_dat = biased_dat.replace(\" \",\"\").replace(\"\\n\",\"\").strip(\"\\r\").split(\",\")"
   ]
  },
  {
   "cell_type": "code",
   "execution_count": null,
   "metadata": {},
   "outputs": [],
   "source": [
    "G = [X[k]  for k in biased_dat if k in X]\n",
    "N = [X[k]  for k in set(X.keys()) - set(biased_dat) ]"
   ]
  },
  {
   "cell_type": "code",
   "execution_count": null,
   "metadata": {},
   "outputs": [],
   "source": [
    "G = np.array(G)\n",
    "N = np.array(N)"
   ]
  },
  {
   "cell_type": "code",
   "execution_count": null,
   "metadata": {},
   "outputs": [],
   "source": [
    "P = get_pc_projection(G)"
   ]
  },
  {
   "cell_type": "code",
   "execution_count": null,
   "metadata": {},
   "outputs": [],
   "source": [
    "Nv = neutralise(N, P)"
   ]
  },
  {
   "cell_type": "code",
   "execution_count": null,
   "metadata": {},
   "outputs": [],
   "source": [
    "Nv /= np.linalg.norm(Nv, axis=1)[..., None]"
   ]
  },
  {
   "cell_type": "code",
   "execution_count": null,
   "metadata": {},
   "outputs": [],
   "source": [
    "def get_pc_projection(X, k=1):\n",
    "    n, d = X.shape\n",
    "    X = X - X.mean(axis=0)\n",
    "    C = (X.T.dot(X) / n)\n",
    "    D, V = la.eigh(C)\n",
    "    V = V[:, :k]\n",
    "    return V.dot(V.T)\n",
    "\n",
    "def create_nu(X, P):\n",
    "    mu = X.mean(axis=0)\n",
    "    nu = mu - P.dot(mu)\n",
    "    return nu, P.dot(mu)\n",
    "\n",
    "def equalize(E, P, N=None, debug=True):\n",
    "    \n",
    "    nu, mu_b = create_nu(E, P)\n",
    "#     print(E[0,:] == E[1,:])\n",
    "    if debug:\n",
    "        print(np.linalg.norm(E, axis=1))\n",
    "    \n",
    "    E = E.dot(P) - 0 * mu_b\n",
    "    \n",
    "    if debug:\n",
    "        print(np.linalg.norm(E, axis=1))\n",
    "        plt.imshow(np.abs(P))\n",
    "        print(np.min(P.ravel()), np.max(P.ravel()))\n",
    "\n",
    "    E /= np.linalg.norm(E, axis=1)[..., None]\n",
    "    \n",
    "    v = np.linalg.norm(nu)\n",
    "    fac = np.sqrt(1 - v**2)\n",
    "    remb = nu +  fac * E\n",
    "    \n",
    "    if debug:\n",
    "        print(np.linalg.norm(E,axis=1))\n",
    "        print(np.linalg.norm(remb, axis=1))\n",
    "    \n",
    "    return remb, E\n",
    "\n",
    "def neutralise(X, P):\n",
    "    \n",
    "    return X.dot((np.eye(P.shape[0]) - P))\n",
    "\n",
    "# Make equaliser set out of : he, his, her, she, him, man, women, men, woman\n",
    "E = G[0:9, :]\n",
    "\n",
    "Eveq, E = equalize(E, P, Nv)"
   ]
  },
  {
   "cell_type": "code",
   "execution_count": null,
   "metadata": {},
   "outputs": [],
   "source": [
    "Eveq"
   ]
  },
  {
   "cell_type": "code",
   "execution_count": null,
   "metadata": {},
   "outputs": [],
   "source": [
    "Eveq.dot(Nv[-1,:])"
   ]
  },
  {
   "cell_type": "code",
   "execution_count": null,
   "metadata": {},
   "outputs": [],
   "source": [
    "np.linalg.norm(Eveq, axis=1)"
   ]
  },
  {
   "cell_type": "code",
   "execution_count": null,
   "metadata": {},
   "outputs": [],
   "source": [
    "for i in range(9):\n",
    "    print((np.sign(Eveq[0,:]) == np.sign(Eveq[i,:]) ).all())"
   ]
  },
  {
   "cell_type": "code",
   "execution_count": null,
   "metadata": {},
   "outputs": [],
   "source": [
    "r = P.dot(E[0,:].T)\n",
    "n = (np.eye(P.shape[0]) - P).dot(r)"
   ]
  },
  {
   "cell_type": "code",
   "execution_count": null,
   "metadata": {},
   "outputs": [],
   "source": [
    "r.dot(n)"
   ]
  },
  {
   "cell_type": "code",
   "execution_count": null,
   "metadata": {},
   "outputs": [],
   "source": [
    "plt.imshow(np.abs(P))\n"
   ]
  },
  {
   "cell_type": "code",
   "execution_count": null,
   "metadata": {},
   "outputs": [],
   "source": [
    "(P == P.T).all()"
   ]
  },
  {
   "cell_type": "code",
   "execution_count": null,
   "metadata": {},
   "outputs": [],
   "source": [
    "np.diag(P).max(), np.diag(P).min(), (P - np.diag(np.diag(P))).max(), np.diag(np.abs(P)).max(), np.min(P), np.max(P), np.std(P)"
   ]
  },
  {
   "cell_type": "code",
   "execution_count": null,
   "metadata": {},
   "outputs": [],
   "source": [
    "n, d = G.shape\n",
    "Gc  = G - G.mean(axis=0)\n",
    "C = (Gc.T.dot(Gc) / n)"
   ]
  },
  {
   "cell_type": "code",
   "execution_count": null,
   "metadata": {},
   "outputs": [],
   "source": [
    "plt.imshow(np.abs(C))"
   ]
  },
  {
   "cell_type": "code",
   "execution_count": null,
   "metadata": {},
   "outputs": [],
   "source": [
    "np.linalg.matrix_rank(C)"
   ]
  }
 ],
 "metadata": {
  "kernelspec": {
   "display_name": "Python 3",
   "language": "python",
   "name": "python3"
  },
  "language_info": {
   "codemirror_mode": {
    "name": "ipython",
    "version": 3
   },
   "file_extension": ".py",
   "mimetype": "text/x-python",
   "name": "python",
   "nbconvert_exporter": "python",
   "pygments_lexer": "ipython3",
   "version": "3.7.4"
  }
 },
 "nbformat": 4,
 "nbformat_minor": 2
}
