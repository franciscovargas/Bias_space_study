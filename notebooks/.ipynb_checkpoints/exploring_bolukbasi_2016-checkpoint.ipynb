{
 "cells": [
  {
   "cell_type": "code",
   "execution_count": 2,
   "metadata": {},
   "outputs": [],
   "source": [
    "import numpy as np\n",
    "import numpy.linalg as la\n",
    "import matplotlib.pyplot as plt\n",
    "import io\n",
    "from L101_utils.data_paths import wikift, bolu_gender_specific, bolu_equalize_pairs, googlew2v, bolu_definitional_pairs, googlew2vtxt\n",
    "from L101_utils.mock_model import MockModel\n",
    "from copy import deepcopy"
   ]
  },
  {
   "cell_type": "code",
   "execution_count": 5,
   "metadata": {},
   "outputs": [
    {
     "name": "stdout",
     "output_type": "stream",
     "text": [
      "['c:\\\\users\\\\user\\\\desktop\\\\coursework\\\\nlp\\\\l101_bias_space_study\\\\data\\\\GoogleNews-vectors-negative300'] bin\n"
     ]
    }
   ],
   "source": [
    "emb = MockModel.from_file(googlew2v, mock=False)"
   ]
  },
  {
   "cell_type": "code",
   "execution_count": 21,
   "metadata": {},
   "outputs": [],
   "source": [
    "emb.vectors = emb.vectors / np.linalg.norm(emb.vectors,  axis=1)[..., None]"
   ]
  },
  {
   "cell_type": "code",
   "execution_count": 26,
   "metadata": {},
   "outputs": [],
   "source": [
    "import json\n",
    "\n",
    "\n",
    "def get_pc_projection_boluk(X, k=1, mean_rev=True):\n",
    "    \n",
    "    mean_rev = int(mean_rev)\n",
    "    n, d = X.shape\n",
    "#     import pdb; pdb.set_trace()\n",
    "    X = X - mean_rev * X.mean(axis=0)\n",
    "    C = (X.T.dot(X) / n)\n",
    "    D, V = la.eigh(C)\n",
    "    V = V[:, :k]\n",
    "    return V.dot(V.T)\n",
    "\n",
    "\n",
    "def create_nu_boluk(X, P):\n",
    "    mu = X.mean(axis=0)\n",
    "    nu = mu - P.dot(mu)\n",
    "    return nu, P.dot(mu)\n",
    "\n",
    "\n",
    "def equalize_boluk(E, P, N=None, debug=True):\n",
    "    nu, mu_b = create_nu_boluk(E, P)\n",
    "    if debug:\n",
    "        print(np.linalg.norm(E, axis=1))\n",
    "    \n",
    "    E = E.dot(P) - 1 * mu_b\n",
    "    \n",
    "    if debug:\n",
    "        print(np.linalg.norm(E, axis=1))\n",
    "#         plt.imshow(np.abs(P))\n",
    "        print(np.min(P.ravel()), np.max(P.ravel()))\n",
    "\n",
    "    E /= np.linalg.norm(E, axis=1)[..., None]\n",
    "    \n",
    "    v = np.linalg.norm(nu)\n",
    "    fac = np.sqrt(1 - v**2)\n",
    "    remb = nu +  fac * E\n",
    "    \n",
    "    if debug:\n",
    "        print(np.linalg.norm(E,axis=1))\n",
    "        print(np.linalg.norm(remb, axis=1))\n",
    "        print(fac)\n",
    "    \n",
    "    return remb, E\n",
    "\n",
    "\n",
    "def neutralise_boluk(X, P):\n",
    "    print(\"start neutralise\")\n",
    "    I = np.eye(P.shape[0])\n",
    "    out =  X.dot( (I - P).T )\n",
    "    print(\"done matrix mult (neutralise)\", out.shape)\n",
    "    return out\n",
    "\n",
    "\n",
    "def generate_subspace_projection(emb,\n",
    "                                 pair_file=bolu_definitional_pairs,\n",
    "                                 n_components=1):\n",
    "    with open(pair_file, \"r\") as f:\n",
    "        pairs = json.load(f)\n",
    "    \n",
    "    matrix = []\n",
    "    for a, b in pairs:\n",
    "        center = (emb.vectors[emb.vocab[a.lower()].index] + emb.vectors[emb.vocab[b.lower()].index])/2\n",
    "#         import pdb; pdb.set_trace()\n",
    "        matrix.append(emb.vectors[emb.vocab[a.lower()].index] - center)\n",
    "        matrix.append(emb.vectors[emb.vocab[b.lower()].index] - center)\n",
    "        \n",
    "    matrix = np.asarray(matrix)\n",
    "#     import pdb; pdb.set_trace()\n",
    "    P = get_pc_projection_boluk(matrix, k=n_components)\n",
    "    assert (P == P.T).all()\n",
    "#     import pdb; pdb.set_trace()\n",
    "    return P\n",
    "\n",
    "\n",
    "def hard_debiase(emb,\n",
    "                 gender_specific_file=bolu_gender_specific,\n",
    "                 equalize_pair_file=bolu_equalize_pairs,\n",
    "                 def_pair_file=bolu_definitional_pairs,\n",
    "                 n_components=1):\n",
    "    \n",
    "#     emb = deepcopy(emb)\n",
    "    \n",
    "    print(\"projection started\")\n",
    "    P = generate_subspace_projection(emb, def_pair_file, n_components)\n",
    "    print(\"projection done\")\n",
    "    \n",
    "    with open(gender_specific_file, \"r\") as f:\n",
    "        gendered_words = set(json.load(f))\n",
    "    \n",
    "    print(\"neutralisation started\")\n",
    "    all_words = set(emb.vocab.keys())\n",
    "    neutral_words = all_words - gendered_words\n",
    "    print(\"getting indices should be fast\")\n",
    "    indices = [emb.vocab[k].index for k in neutral_words]\n",
    "    indices = indices[0:10000]\n",
    "    print(\"created neutral word set\", len(neutral_words))\n",
    "    neutral = emb.vectors[indices,:]\n",
    "    print(\"done indexing into neutral embs\")\n",
    "    test = neutralise_boluk(neutral, P)\n",
    "    emb.vectors[indices,:] = test\n",
    "    print(\"neutralisation done\")\n",
    "    \n",
    "    with open(bolu_equalize_pairs, \"r\") as f:\n",
    "        equalize_words = json.load(f)\n",
    "    \n",
    "    candidates = {x for e1, e2 in equalize_words for x in [(e1.lower(), e2.lower()),\n",
    "                                                           (e1.title(), e2.title()),\n",
    "                                                           (e1.upper(), e2.upper())]}\n",
    "    print(candidates, \"started equalising\")\n",
    "#     import pdb; pdb.set_trace()\n",
    "    for (e1, e2) in candidates:\n",
    "        if (e1 in all_words and e2 in all_words):\n",
    "            word2index  = [emb.vocab[e1].index, emb.vocab[e2].index]\n",
    "            remb, _ = equalize_boluk(emb.vectors[word2index,:], P, debug=False)\n",
    "            print(\"remb\", test[0].dot(remb.T))\n",
    "            print(np.sign(remb)[:, 0:10])\n",
    "            import pdb; pdb.set_trace()\n",
    "           \n",
    "            emb.vectors[word2index,:] = remb\n",
    "    return emb"
   ]
  },
  {
   "cell_type": "code",
   "execution_count": null,
   "metadata": {},
   "outputs": [
    {
     "name": "stdout",
     "output_type": "stream",
     "text": [
      "projection started\n",
      "projection done\n",
      "neutralisation started\n",
      "getting indices should be fast\n",
      "created neutral word set 2998559\n",
      "done indexing into neutral embs\n",
      "start neutralise\n",
      "done matrix mult (neutralise) (10000, 300)\n",
      "neutralisation done\n",
      "{('male', 'female'), ('men', 'women'), ('twin_brother', 'twin_sister'), ('Congressman', 'Congresswoman'), ('spokesman', 'spokeswoman'), ('fraternity', 'sorority'), ('Brothers', 'Sisters'), ('GRANDFATHER', 'GRANDMOTHER'), ('SPOKESMAN', 'SPOKESWOMAN'), ('King', 'Queen'), ('catholic_priest', 'nun'), ('Gentlemen', 'Ladies'), ('himself', 'herself'), ('businessman', 'businesswoman'), ('Grandson', 'Granddaughter'), ('Man', 'Woman'), ('COLT', 'FILLY'), ('brothers', 'sisters'), ('fathers', 'mothers'), ('Fathers', 'Mothers'), ('fella', 'granny'), ('CONGRESSMAN', 'CONGRESSWOMAN'), ('Councilman', 'Councilwoman'), ('MEN', 'WOMEN'), ('UNCLE', 'AUNT'), ('boys', 'girls'), ('Grandsons', 'Granddaughters'), ('DUDES', 'GALS'), ('GELDING', 'MARE'), ('Spokesman', 'Spokeswoman'), ('MALES', 'FEMALES'), ('EX_GIRLFRIEND', 'EX_BOYFRIEND'), ('Sons', 'Daughters'), ('Dudes', 'Gals'), ('HIMSELF', 'HERSELF'), ('nephew', 'niece'), ('FATHERHOOD', 'MOTHERHOOD'), ('MONASTERY', 'CONVENT'), ('Boys', 'Girls'), ('grandfather', 'grandmother'), ('Gelding', 'Mare'), ('BOY', 'GIRL'), ('boy', 'girl'), ('colt', 'filly'), ('son', 'daughter'), ('Himself', 'Herself'), ('Prince', 'Princess'), ('GENTLEMEN', 'LADIES'), ('CHAIRMAN', 'CHAIRWOMAN'), ('brother', 'sister'), ('Colt', 'Filly'), ('schoolboy', 'schoolgirl'), ('NEPHEW', 'NIECE'), ('Wives', 'Husbands'), ('father', 'mother'), ('uncle', 'aunt'), ('Ex_Girlfriend', 'Ex_Boyfriend'), ('Fatherhood', 'Motherhood'), ('Twin_Brother', 'Twin_Sister'), ('gentleman', 'lady'), ('BUSINESSMAN', 'BUSINESSWOMAN'), ('males', 'females'), ('GRANDSON', 'GRANDDAUGHTER'), ('MAN', 'WOMAN'), ('Men', 'Women'), ('Grandpa', 'Grandma'), ('Testosterone', 'Estrogen'), ('grandson', 'granddaughter'), ('ex_girlfriend', 'ex_boyfriend'), ('MALE', 'FEMALE'), ('Schoolboy', 'Schoolgirl'), ('testosterone', 'estrogen'), ('PROSTATE_CANCER', 'OVARIAN_CANCER'), ('Catholic_Priest', 'Nun'), ('SCHOOLBOY', 'SCHOOLGIRL'), ('Fella', 'Granny'), ('grandpa', 'grandma'), ('Father', 'Mother'), ('BROTHER', 'SISTER'), ('KINGS', 'QUEENS'), ('gelding', 'mare'), ('PRINCE', 'PRINCESS'), ('CATHOLIC_PRIEST', 'NUN'), ('Fraternity', 'Sorority'), ('FATHERS', 'MOTHERS'), ('he', 'she'), ('He', 'She'), ('Uncle', 'Aunt'), ('chairman', 'chairwoman'), ('grandsons', 'granddaughters'), ('monastery', 'convent'), ('Males', 'Females'), ('Businessman', 'Businesswoman'), ('WIVES', 'HUSBANDS'), ('KING', 'QUEEN'), ('DADS', 'MOMS'), ('FRATERNITY', 'SORORITY'), ('councilman', 'councilwoman'), ('sons', 'daughters'), ('HIS', 'HER'), ('SON', 'DAUGHTER'), ('Nephew', 'Niece'), ('Dad', 'Mom'), ('Boy', 'Girl'), ('dudes', 'gals'), ('Chairman', 'Chairwoman'), ('prince', 'princess'), ('dad', 'mom'), ('GRANDPA', 'GRANDMA'), ('Monastery', 'Convent'), ('Son', 'Daughter'), ('BOYS', 'GIRLS'), ('Prostate_Cancer', 'Ovarian_Cancer'), ('his', 'her'), ('congressman', 'congresswoman'), ('FELLA', 'GRANNY'), ('dads', 'moms'), ('gentlemen', 'ladies'), ('Grandfather', 'Grandmother'), ('kings', 'queens'), ('COUNCILMAN', 'COUNCILWOMAN'), ('BROTHERS', 'SISTERS'), ('Brother', 'Sister'), ('man', 'woman'), ('Kings', 'Queens'), ('DAD', 'MOM'), ('Dads', 'Moms'), ('Gentleman', 'Lady'), ('Male', 'Female'), ('SONS', 'DAUGHTERS'), ('TWIN_BROTHER', 'TWIN_SISTER'), ('prostate_cancer', 'ovarian_cancer'), ('GENTLEMAN', 'LADY'), ('GRANDSONS', 'GRANDDAUGHTERS'), ('His', 'Her'), ('HE', 'SHE'), ('wives', 'husbands'), ('FATHER', 'MOTHER'), ('TESTOSTERONE', 'ESTROGEN'), ('fatherhood', 'motherhood'), ('king', 'queen')} started equalising\n",
      "remb [0.1471579  0.14382743]\n",
      "[[-1.  1. -1. -1. -1. -1. -1.  1.  1.  1.]\n",
      " [-1.  1. -1. -1. -1. -1. -1.  1.  1.  1.]]\n",
      "> <ipython-input-26-ad8c747521e7>(120)hard_debiase()\n",
      "-> emb.vectors[word2index,:] = remb\n",
      "(Pdb) aaa = a\n",
      "*** NameError: name 'a' is not defined\n",
      "(Pdb) e1\n",
      "'male'\n",
      "(Pdb) e2\n",
      "'female'\n",
      "(Pdb) remb[:, 1:3]\n",
      "array([[ 0.02289128, -0.00132387],\n",
      "       [ 0.02701588, -0.01130703]], dtype=float32)\n",
      "(Pdb) remb[:, 1:20]\n",
      "array([[ 0.02289128, -0.00132387, -0.05429416, -0.03464129, -0.0852178 ,\n",
      "        -0.01854584,  0.01774507,  0.07725958,  0.01502625, -0.04791082,\n",
      "        -0.00745164,  0.08193619,  0.02106675, -0.04115638, -0.00535768,\n",
      "        -0.02778362, -0.03015161, -0.00535013, -0.03776707],\n",
      "       [ 0.02701588, -0.01130703, -0.05542684, -0.03365118, -0.08668244,\n",
      "        -0.01957699,  0.01876254,  0.07715013,  0.01475262, -0.03998997,\n",
      "        -0.00743111,  0.08104185,  0.02107359, -0.04631213, -0.00033873,\n",
      "        -0.02774626, -0.02922991, -0.00722089, -0.03780811]],\n",
      "      dtype=float32)\n",
      "(Pdb) np.linalg.norm(remb, axis=1)\n",
      "array([0.9936029 , 0.99480057], dtype=float32)\n",
      "(Pdb) np.linalg.norm(_, axis=1)\n",
      "array([1.        , 0.99999994], dtype=float32)\n",
      "(Pdb) _\n",
      "array([[ 4.9439713e-02,  0.0000000e+00,  3.7079785e-02,  3.0899821e-03,\n",
      "        -4.6349731e-03,  9.2699463e-03,  0.0000000e+00, -1.5449910e-03,\n",
      "        -1.2359928e-02, -3.0899821e-02, -3.7079785e-02,  2.3174866e-03,\n",
      "         1.5449910e-02,  7.7249552e-04,  0.0000000e+00, -1.5449910e-02,\n",
      "         5.7937164e-04, -1.2359928e-02,  2.1629876e-02, -4.6349731e-03,\n",
      "         0.0000000e+00, -3.8624776e-04,  0.0000000e+00,  1.2359928e-02,\n",
      "         2.3174866e-03, -6.1799642e-02,  0.0000000e+00, -7.7249552e-04,\n",
      "         1.8539893e-02, -1.2359928e-02, -6.1799642e-03, -2.4719857e-02,\n",
      "        -2.4719857e-02,  3.7079785e-02,  1.8539893e-02, -1.2359928e-02,\n",
      "        -3.7079785e-02, -1.5449910e-03,  1.2359928e-02,  0.0000000e+00,\n",
      "         9.4298770e-07, -7.7249552e-04,  6.1799642e-03, -4.6349731e-03,\n",
      "         4.6349731e-03,  6.1799642e-03, -6.1799642e-03, -1.2359928e-02,\n",
      "         6.0351213e-06,  6.1799642e-03, -1.5449910e-02, -3.7079785e-02,\n",
      "        -1.2359928e-02,  4.9439713e-02,  1.2359928e-02,  0.0000000e+00,\n",
      "        -4.6349731e-03,  6.1799642e-03,  2.4719857e-02, -1.2359928e-02,\n",
      "         3.0899821e-03,  0.0000000e+00, -3.8624776e-04,  3.0899821e-02,\n",
      "         0.0000000e+00,  1.9312388e-04,  4.9439713e-02,  9.8879427e-02,\n",
      "         9.2699463e-03,  6.1799642e-03,  7.7249552e-04, -3.7079785e-02,\n",
      "         1.8539893e-02, -1.9312388e-04,  6.1799642e-03,  2.4719857e-02,\n",
      "         3.0899821e-02,  1.2359928e-02, -2.4719857e-02,  1.9775885e-01,\n",
      "        -9.8879427e-02, -3.8624776e-04, -6.1799642e-03, -3.8624776e-03,\n",
      "         7.9103541e-01,  1.9775885e-01,  0.0000000e+00,  3.7079785e-02,\n",
      "        -3.7079785e-02, -2.4719857e-02,  0.0000000e+00,  2.4719857e-02,\n",
      "         0.0000000e+00, -3.8624776e-03, -4.6349731e-03,  4.9439713e-02,\n",
      "        -2.4719857e-02, -6.1799642e-03,  0.0000000e+00, -4.6349731e-03,\n",
      "        -3.0899821e-03, -3.0899821e-03, -1.2359928e-02, -4.9439713e-02,\n",
      "         0.0000000e+00, -1.2359928e-02,  1.2359928e-01,  0.0000000e+00,\n",
      "         7.7249552e-04, -2.4719857e-02, -1.5449910e-03, -5.4074689e-03,\n",
      "         9.8879427e-02,  1.8539893e-02, -1.2359928e-02, -3.7079785e-02,\n",
      "         1.8539893e-02, -7.4159570e-02,  3.8624776e-04,  9.6561940e-05,\n",
      "        -2.4719857e-02,  0.0000000e+00, -1.2359928e-02,  1.1587433e-03,\n",
      "        -9.8879427e-02,  7.4159570e-02, -3.0899821e-03,  3.0899821e-02,\n",
      "         6.1799642e-03,  1.2359928e-02,  5.7937164e-04,  0.0000000e+00,\n",
      "         6.1799642e-03, -1.2359928e-02, -1.2359928e-02,  1.5449910e-02,\n",
      "        -2.4719857e-02,  1.9775885e-01,  1.5449910e-03, -9.8879427e-02,\n",
      "         1.5449910e-03,  4.9439713e-02,  1.8539893e-02, -1.5449910e-03,\n",
      "        -2.4719857e-02, -7.7249552e-04,  0.0000000e+00,  2.4719857e-02,\n",
      "        -2.4719857e-02,  0.0000000e+00,  4.9439713e-02, -3.0899821e-03,\n",
      "        -7.4159570e-02,  0.0000000e+00, -7.7249552e-04,  3.0899821e-03,\n",
      "         6.1799642e-03, -1.2359928e-02, -4.6349731e-03, -1.2359928e-02,\n",
      "        -1.2359928e-02,  6.1799642e-03,  0.0000000e+00, -1.5449910e-03,\n",
      "         0.0000000e+00, -1.9312388e-03,  1.5449910e-03,  4.9439713e-02,\n",
      "        -6.1799642e-03,  1.9312388e-04,  1.2359928e-02,  7.7249552e-04,\n",
      "         1.5449910e-02,  0.0000000e+00,  3.0899821e-03,  3.0899821e-03,\n",
      "        -1.5449910e-03, -6.1799642e-02,  0.0000000e+00,  1.5449910e-02,\n",
      "        -6.1799642e-03,  3.0899821e-03, -6.1799642e-03, -7.7249552e-04,\n",
      "        -1.5449910e-03,  0.0000000e+00,  4.9439713e-02,  0.0000000e+00,\n",
      "        -1.2359928e-02, -9.2699463e-03,  0.0000000e+00,  0.0000000e+00,\n",
      "         7.4159570e-02, -7.7249552e-04,  2.1629876e-02, -7.4159570e-02,\n",
      "        -3.0899821e-03, -1.2359928e-02,  3.7079785e-02, -6.1799642e-03,\n",
      "         3.8624776e-04,  0.0000000e+00, -7.7249552e-03, -1.5449910e-03,\n",
      "         2.4719857e-02,  6.1799642e-03, -1.5449910e-02, -6.1799642e-03,\n",
      "         7.7249552e-04,  0.0000000e+00,  3.0899821e-03,  0.0000000e+00,\n",
      "        -9.6561940e-04, -2.4719857e-02, -2.4719857e-02, -2.4719857e-02,\n",
      "         3.0899821e-03,  3.7079785e-02,  9.8879427e-02,  1.8539893e-02,\n",
      "         1.5449910e-03, -9.8879427e-02,  3.8624776e-04,  2.4719857e-02,\n",
      "        -2.4719857e-02,  2.4719857e-02, -6.1799642e-03,  1.2359928e-02,\n",
      "        -7.7249552e-03, -7.4159570e-02,  9.2699463e-03, -7.7249552e-04,\n",
      "         1.5449910e-03, -1.5449910e-02, -4.6349731e-03,  1.2359928e-02,\n",
      "         3.7079785e-02,  0.0000000e+00,  3.0899821e-03, -7.7249552e-04,\n",
      "         6.1799642e-03,  1.5449910e-02,  2.4719857e-02,  1.5449910e-03,\n",
      "         7.7249552e-03,  9.2699463e-03, -1.2359928e-02, -3.0899821e-03,\n",
      "         0.0000000e+00, -2.3174866e-03,  7.7249552e-04, -3.0899821e-03,\n",
      "         6.1799642e-02, -7.2421455e-05,  9.2699463e-03, -7.4159570e-02,\n",
      "         3.0899821e-03,  0.0000000e+00, -1.8539893e-02,  0.0000000e+00,\n",
      "         4.9439713e-02,  0.0000000e+00,  1.2359928e-02,  3.0899821e-03,\n",
      "        -1.9312388e-03,  0.0000000e+00, -1.8539893e-02, -1.2359928e-02,\n",
      "         0.0000000e+00,  2.7037344e-03, -6.1799642e-03, -9.8879427e-02,\n",
      "         0.0000000e+00,  3.0899821e-03, -5.5619679e-02,  0.0000000e+00,\n",
      "         1.8539893e-02,  1.5449910e-03,  1.5449910e-02,  0.0000000e+00,\n",
      "        -6.1799642e-03,  1.5449910e-02,  6.1799642e-03,  2.1629876e-02,\n",
      "        -1.8539893e-02, -3.8624776e-04,  6.1799642e-03, -3.8624776e-04,\n",
      "         4.6349731e-03,  9.8879427e-02,  9.6561940e-04, -9.2699463e-03,\n",
      "         6.1799642e-03, -6.1799642e-03,  7.7249552e-03, -6.1799642e-03,\n",
      "         1.4831914e-01,  7.4159570e-02,  1.2359928e-02,  6.1799642e-03],\n",
      "       [-7.8315958e-02,  2.6105318e-02, -2.6105318e-02, -4.0789559e-03,\n",
      "         1.6315824e-03,  0.0000000e+00, -6.5263296e-03,  4.8947474e-03,\n",
      "        -1.3052659e-02, -3.2631647e-02,  1.3052659e-02,  2.4473737e-03,\n",
      "         9.7894948e-03,  8.1579119e-04, -3.2631647e-02,  1.6315823e-02,\n",
      "         8.1579119e-04, -6.5263296e-03,  9.7894948e-03, -4.8947474e-03,\n",
      "         0.0000000e+00,  8.1579119e-04, -1.3052659e-02, -1.3052659e-02,\n",
      "         8.1579119e-04, -7.8315958e-02,  4.8947474e-03, -3.2631648e-03,\n",
      "        -1.9578990e-02, -1.3052659e-02,  0.0000000e+00,  1.3052659e-02,\n",
      "        -6.5263294e-02,  2.6105318e-02,  0.0000000e+00, -5.2210636e-02,\n",
      "        -1.3052659e-02,  0.0000000e+00, -2.6105318e-02,  6.5263296e-03,\n",
      "         1.9916777e-07, -1.6315824e-03, -6.5263296e-03,  1.6315824e-03,\n",
      "         8.1579117e-03,  0.0000000e+00, -1.3052659e-02, -1.3052659e-02,\n",
      "         3.8240214e-05, -6.5263296e-03,  6.5263296e-03,  0.0000000e+00,\n",
      "         0.0000000e+00,  5.2210636e-02, -6.5263294e-02,  0.0000000e+00,\n",
      "         3.2631648e-03, -1.9578990e-02,  0.0000000e+00, -1.3052659e-02,\n",
      "        -3.2631648e-03, -1.3052659e-02,  0.0000000e+00,  1.3052659e-02,\n",
      "        -6.5263296e-03, -8.1579119e-04,  0.0000000e+00, -4.1768509e-01,\n",
      "         6.5263296e-03,  6.5263296e-03, -8.1579119e-04,  3.9157979e-02,\n",
      "        -6.5263296e-03, -5.0986948e-04,  0.0000000e+00,  2.6105318e-02,\n",
      "         3.2631647e-02,  5.2210636e-02,  1.3052659e-02, -5.2210636e-02,\n",
      "         5.2210636e-02,  4.0789560e-04, -1.3052659e-02, -4.8947474e-03,\n",
      "         3.1326383e-01, -1.0442127e-01,  1.6315824e-03,  9.1368616e-02,\n",
      "        -2.6105318e-02,  0.0000000e+00, -1.6315824e-03,  0.0000000e+00,\n",
      "        -6.1184342e-04, -2.4473737e-03,  6.5263296e-03,  2.6105318e-02,\n",
      "        -1.3052659e-02,  1.6315824e-03,  2.4473737e-03,  1.6315824e-03,\n",
      "        -1.6315824e-03,  1.6315823e-02, -1.9578990e-02,  0.0000000e+00,\n",
      "         6.5263296e-03,  3.2631648e-03, -1.0442127e-01,  2.6105318e-02,\n",
      "        -1.6315824e-03, -1.3052659e-02,  8.1579119e-04, -1.6315824e-03,\n",
      "         1.0442127e-01,  0.0000000e+00, -3.9157979e-02, -5.2210636e-02,\n",
      "        -1.3052659e-02, -2.6105318e-02,  4.0789560e-04,  1.0197390e-04,\n",
      "        -2.6105318e-02,  3.2631648e-03, -9.7894948e-03,  1.6315824e-03,\n",
      "        -1.5663192e-01,  2.6105318e-02, -4.0789559e-03,  6.5263296e-03,\n",
      "        -1.9578990e-02, -3.9157979e-02, -1.4276346e-03, -1.6315824e-03,\n",
      "         0.0000000e+00, -1.3052659e-02, -6.5263296e-03,  6.5263296e-03,\n",
      "         3.9157979e-02,  2.0884255e-01,  0.0000000e+00,  0.0000000e+00,\n",
      "         3.2631648e-03,  5.2210636e-02,  3.9157979e-02, -6.5263296e-03,\n",
      "        -2.6105318e-02, -8.1579119e-04, -5.2210636e-02, -6.5263296e-03,\n",
      "         1.3052659e-02, -1.0442127e-01, -1.3052659e-02,  3.2631648e-03,\n",
      "         1.5663192e-01,  1.3052659e-02, -3.2631648e-03,  0.0000000e+00,\n",
      "         1.6315824e-03,  1.3052659e-02, -1.6315824e-03,  1.9578990e-02,\n",
      "         0.0000000e+00,  3.2631648e-03,  3.9157979e-02,  0.0000000e+00,\n",
      "         0.0000000e+00, -2.0394779e-03,  6.5263296e-03, -2.6105318e-02,\n",
      "         0.0000000e+00,  2.0394780e-04,  6.5263294e-02, -8.1579119e-04,\n",
      "         9.7894948e-03,  0.0000000e+00, -6.5263296e-03, -1.3052659e-02,\n",
      "        -3.2631648e-03, -6.5263294e-02, -6.1184342e-04,  9.7894948e-03,\n",
      "        -3.2631648e-03, -5.7105385e-03, -4.8947474e-03,  2.4473737e-03,\n",
      "         8.1579117e-03, -3.2631648e-03,  0.0000000e+00,  0.0000000e+00,\n",
      "        -2.6105318e-02,  3.2631648e-03, -3.9157979e-02,  3.9157979e-02,\n",
      "         0.0000000e+00, -6.1184342e-04,  9.7894948e-03, -3.9157979e-02,\n",
      "        -9.7894948e-03,  3.2631648e-03,  1.3052659e-02,  3.2631647e-02,\n",
      "        -4.0789560e-04, -3.2631648e-03, -1.6315824e-03,  0.0000000e+00,\n",
      "         5.2210636e-02,  0.0000000e+00,  1.9578990e-02, -6.5263296e-03,\n",
      "         8.1579119e-04,  6.5263296e-03,  0.0000000e+00,  3.2631648e-03,\n",
      "         4.0789560e-04,  6.5263296e-03,  3.9157979e-02,  6.5263296e-03,\n",
      "         9.7894948e-03,  1.3052659e-02, -1.0442127e-01, -1.3052659e-02,\n",
      "         4.8947474e-03, -5.2210635e-01,  0.0000000e+00,  1.3052659e-02,\n",
      "         0.0000000e+00, -1.3052659e-01, -9.7894948e-03,  2.6105318e-02,\n",
      "         8.1579117e-03,  2.6105318e-02,  0.0000000e+00, -8.1579119e-04,\n",
      "         1.6315824e-03,  0.0000000e+00,  1.6315824e-03, -1.6315823e-02,\n",
      "         0.0000000e+00,  0.0000000e+00,  3.2631648e-03,  8.1579119e-04,\n",
      "        -1.3052659e-02,  1.9578990e-02,  7.8315958e-02, -8.1579117e-03,\n",
      "        -1.6315824e-03,  1.3052659e-02,  6.5263296e-03, -1.6315824e-03,\n",
      "        -1.6315824e-03,  4.0789559e-03,  2.4473737e-03, -6.5263296e-03,\n",
      "         1.3052659e-02,  1.2746737e-04,  9.7894948e-03, -1.8273723e-01,\n",
      "        -8.1579119e-04,  9.7894948e-03, -2.6105318e-02,  8.1579119e-04,\n",
      "         0.0000000e+00,  3.2631648e-03,  3.9157979e-02, -1.6315823e-02,\n",
      "         0.0000000e+00, -3.2631648e-03, -1.3052659e-02, -5.2210636e-02,\n",
      "        -2.6105318e-02,  4.0789560e-04, -1.9578990e-02, -5.2210636e-02,\n",
      "        -6.5263296e-03,  0.0000000e+00,  1.3052659e-02,  3.2631647e-02,\n",
      "        -3.2631648e-03,  3.2631648e-03, -1.6315823e-02,  2.4473737e-03,\n",
      "        -6.5263296e-03,  3.2631648e-03, -2.6105318e-02,  1.9578990e-02,\n",
      "        -1.3052659e-02, -1.6315824e-03, -9.7894948e-03, -1.0197390e-04,\n",
      "         6.5263296e-03, -3.1326383e-01,  2.0394779e-03, -9.7894948e-03,\n",
      "        -6.5263296e-03, -2.6105318e-02,  8.1579117e-03,  3.2631648e-03,\n",
      "         1.5663192e-01, -1.0442127e-01,  1.3052659e-02, -6.5263296e-03]],\n",
      "      dtype=float32)\n"
     ]
    },
    {
     "name": "stdout",
     "output_type": "stream",
     "text": [
      "(Pdb) _[:,1:4]\n",
      "array([[ 0.        ,  0.03707979,  0.00308998],\n",
      "       [ 0.02610532, -0.02610532, -0.00407896]], dtype=float32)\n",
      "(Pdb) (P == P.T).all()\n",
      "True\n"
     ]
    }
   ],
   "source": [
    "embnasius = hard_debiase(emb)"
   ]
  },
  {
   "cell_type": "code",
   "execution_count": null,
   "metadata": {},
   "outputs": [],
   "source": [
    "emb[set([\"hello\", \"punk\"])].shape"
   ]
  },
  {
   "cell_type": "markdown",
   "metadata": {},
   "source": [
    " "
   ]
  },
  {
   "cell_type": "markdown",
   "metadata": {},
   "source": [
    " "
   ]
  },
  {
   "cell_type": "code",
   "execution_count": null,
   "metadata": {},
   "outputs": [],
   "source": [
    "# Auxiliary functions\n",
    "\n",
    "\n",
    "def load_vectors(fname):\n",
    "    fin = io.open(fname, 'r', encoding='utf-8', newline='\\n', errors='ignore')\n",
    "    n, d = map(int, fin.readline().split())\n",
    "    data = {}\n",
    "    for i, line in enumerate(fin):\n",
    "        if i == 100000: break\n",
    "        tokens = line.rstrip().split(' ')\n",
    "        data[tokens[0]] = np.asarray(list(map(float, tokens[1:])))\n",
    "        data[tokens[0]] /=  np.linalg.norm(data[tokens[0]]) \n",
    "    return data\n",
    "\n",
    "\n",
    "X = load_vectors(wikift);"
   ]
  },
  {
   "cell_type": "code",
   "execution_count": null,
   "metadata": {},
   "outputs": [],
   "source": [
    "biased_dat = \"\"\"he, her, his, she, him, man, women, men, woman, spokesman, wife, himself, son, mother, father, chairman,\n",
    "daughter, husband, guy, girls, girl, boy, boys, brother, spokeswoman, female, sister, male, herself, brothers, dad,\n",
    "actress, mom, sons, girlfriend, daughters, lady, boyfriend, sisters, mothers, king, businessman, grandmother,\n",
    "grandfather, deer, ladies, uncle, males, congressman, grandson, bull, queen, businessmen, wives, widow,\n",
    "nephew, bride, females, aunt, prostate cancer, lesbian, chairwoman, fathers, moms, maiden, granddaughter,\n",
    "younger brother, lads, lion, gentleman, fraternity, bachelor, niece, bulls, husbands, prince, colt, salesman, hers,\n",
    "dude, beard, filly, princess, lesbians, councilman, actresses, gentlemen, stepfather, monks, ex girlfriend, lad,\n",
    "sperm, testosterone, nephews, maid, daddy, mare, fiance, fiancee, kings, dads, waitress, maternal, heroine,\n",
    "nieces, girlfriends, sir, stud, mistress, lions, estranged wife, womb, grandma, maternity, estrogen, ex boyfriend,\n",
    "widows, gelding, diva, teenage girls, nuns, czar, ovarian cancer, countrymen, teenage girl, penis, bloke, nun,\n",
    "brides, housewife, spokesmen, suitors, menopause, monastery, motherhood, brethren, stepmother, prostate,\n",
    "hostess, twin brother, schoolboy, brotherhood, fillies, stepson, congresswoman, uncles, witch, monk, viagra,\n",
    "paternity, suitor, sorority, macho, businesswoman, eldest son, gal, statesman, schoolgirl, fathered, goddess,\n",
    "hubby, stepdaughter, blokes, dudes, strongman, uterus, grandsons, studs, mama, godfather, hens, hen, mommy,\n",
    "estranged husband, elder brother, boyhood, baritone, grandmothers, grandpa, boyfriends, feminism, countryman,\n",
    "stallion, heiress, queens, witches, aunts, semen, fella, granddaughters, chap, widower, salesmen, convent,\n",
    "vagina, beau, beards, handyman, twin sister, maids, gals, housewives, horsemen, obstetrics, fatherhood,\n",
    "councilwoman, princes, matriarch, colts, ma, fraternities, pa, fellas, councilmen, dowry, barbershop, fraternal,\n",
    "ballerina\"\"\"\n",
    "\n",
    "biased_dat = biased_dat.replace(\" \",\"\").replace(\"\\n\",\"\").strip(\"\\r\").split(\",\")"
   ]
  },
  {
   "cell_type": "code",
   "execution_count": null,
   "metadata": {},
   "outputs": [],
   "source": [
    "G = [X[k]  for k in biased_dat if k in X]\n",
    "N = [X[k]  for k in set(X.keys()) - set(biased_dat) ]"
   ]
  },
  {
   "cell_type": "code",
   "execution_count": null,
   "metadata": {},
   "outputs": [],
   "source": [
    "G = np.array(G)\n",
    "N = np.array(N)"
   ]
  },
  {
   "cell_type": "code",
   "execution_count": null,
   "metadata": {},
   "outputs": [],
   "source": [
    "P = get_pc_projection(G)"
   ]
  },
  {
   "cell_type": "code",
   "execution_count": null,
   "metadata": {},
   "outputs": [],
   "source": [
    "Nv = neutralise(N, P)"
   ]
  },
  {
   "cell_type": "code",
   "execution_count": null,
   "metadata": {},
   "outputs": [],
   "source": [
    "Nv /= np.linalg.norm(Nv, axis=1)[..., None]"
   ]
  },
  {
   "cell_type": "code",
   "execution_count": null,
   "metadata": {},
   "outputs": [],
   "source": [
    "def get_pc_projection(X, k=1):\n",
    "    n, d = X.shape\n",
    "    X = X - X.mean(axis=0)\n",
    "    C = (X.T.dot(X) / n)\n",
    "    D, V = la.eigh(C)\n",
    "    V = V[:, :k]\n",
    "    return V.dot(V.T)\n",
    "\n",
    "def create_nu(X, P):\n",
    "    mu = X.mean(axis=0)\n",
    "    nu = mu - P.dot(mu)\n",
    "    return nu, P.dot(mu)\n",
    "\n",
    "def equalize(E, P, N=None, debug=True):\n",
    "    \n",
    "    nu, mu_b = create_nu(E, P)\n",
    "#     print(E[0,:] == E[1,:])\n",
    "    if debug:\n",
    "        print(np.linalg.norm(E, axis=1))\n",
    "    \n",
    "    E = E.dot(P) - 0 * mu_b\n",
    "    \n",
    "    if debug:\n",
    "        print(np.linalg.norm(E, axis=1))\n",
    "        plt.imshow(np.abs(P))\n",
    "        print(np.min(P.ravel()), np.max(P.ravel()))\n",
    "\n",
    "    E /= np.linalg.norm(E, axis=1)[..., None]\n",
    "    \n",
    "    v = np.linalg.norm(nu)\n",
    "    fac = np.sqrt(1 - v**2)\n",
    "    remb = nu +  fac * E\n",
    "    \n",
    "    if debug:\n",
    "        print(np.linalg.norm(E,axis=1))\n",
    "        print(np.linalg.norm(remb, axis=1))\n",
    "    \n",
    "    return remb, E\n",
    "\n",
    "def neutralise(X, P):\n",
    "    \n",
    "    return X.dot((np.eye(P.shape[0]) - P))\n",
    "\n",
    "# Make equaliser set out of : he, his, her, she, him, man, women, men, woman\n",
    "E = G[0:9, :]\n",
    "\n",
    "Eveq, E = equalize(E, P, Nv)"
   ]
  },
  {
   "cell_type": "code",
   "execution_count": null,
   "metadata": {},
   "outputs": [],
   "source": [
    "Eveq"
   ]
  },
  {
   "cell_type": "code",
   "execution_count": null,
   "metadata": {},
   "outputs": [],
   "source": [
    "Eveq.dot(Nv[-1,:])"
   ]
  },
  {
   "cell_type": "code",
   "execution_count": null,
   "metadata": {},
   "outputs": [],
   "source": [
    "np.linalg.norm(Eveq, axis=1)"
   ]
  },
  {
   "cell_type": "code",
   "execution_count": null,
   "metadata": {},
   "outputs": [],
   "source": [
    "for i in range(9):\n",
    "    print((np.sign(Eveq[0,:]) == np.sign(Eveq[i,:]) ).all())"
   ]
  },
  {
   "cell_type": "code",
   "execution_count": null,
   "metadata": {},
   "outputs": [],
   "source": [
    "r = P.dot(E[0,:].T)\n",
    "n = (np.eye(P.shape[0]) - P).dot(r)"
   ]
  },
  {
   "cell_type": "code",
   "execution_count": null,
   "metadata": {},
   "outputs": [],
   "source": [
    "r.dot(n)"
   ]
  },
  {
   "cell_type": "code",
   "execution_count": null,
   "metadata": {},
   "outputs": [],
   "source": [
    "plt.imshow(np.abs(P))\n"
   ]
  },
  {
   "cell_type": "code",
   "execution_count": null,
   "metadata": {},
   "outputs": [],
   "source": [
    "(P == P.T).all()"
   ]
  },
  {
   "cell_type": "code",
   "execution_count": null,
   "metadata": {},
   "outputs": [],
   "source": [
    "np.diag(P).max(), np.diag(P).min(), (P - np.diag(np.diag(P))).max(), np.diag(np.abs(P)).max(), np.min(P), np.max(P), np.std(P)"
   ]
  },
  {
   "cell_type": "code",
   "execution_count": null,
   "metadata": {},
   "outputs": [],
   "source": [
    "n, d = G.shape\n",
    "Gc  = G - G.mean(axis=0)\n",
    "C = (Gc.T.dot(Gc) / n)"
   ]
  },
  {
   "cell_type": "code",
   "execution_count": null,
   "metadata": {},
   "outputs": [],
   "source": [
    "plt.imshow(np.abs(C))"
   ]
  },
  {
   "cell_type": "code",
   "execution_count": null,
   "metadata": {},
   "outputs": [],
   "source": [
    "np.linalg.matrix_rank(C)"
   ]
  }
 ],
 "metadata": {
  "kernelspec": {
   "display_name": "Python 3",
   "language": "python",
   "name": "python3"
  },
  "language_info": {
   "codemirror_mode": {
    "name": "ipython",
    "version": 3
   },
   "file_extension": ".py",
   "mimetype": "text/x-python",
   "name": "python",
   "nbconvert_exporter": "python",
   "pygments_lexer": "ipython3",
   "version": "3.7.4"
  }
 },
 "nbformat": 4,
 "nbformat_minor": 2
}
