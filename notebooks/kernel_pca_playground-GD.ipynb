{
 "cells": [
  {
   "cell_type": "code",
   "execution_count": 78,
   "metadata": {},
   "outputs": [],
   "source": [
    "import numpy as np\n",
    "import matplotlib.pyplot as plt\n",
    "\n",
    "from sklearn.decomposition import PCA, KernelPCA\n",
    "from sklearn.datasets import make_circles\n",
    "\n",
    "\n",
    "from numpy import sin, cos\n",
    "from scipy import linalg\n",
    "import autograd\n",
    "from tqdm.notebook import tqdm"
   ]
  },
  {
   "cell_type": "code",
   "execution_count": 4,
   "metadata": {},
   "outputs": [],
   "source": [
    "t = np.linspace(0, 2 * np.pi, 1000)\n",
    "x, y=( 0.12 * cos(5*t) + 1)  * cos(t),  (0.12 * cos(5*t) +1) * sin(t)"
   ]
  },
  {
   "cell_type": "code",
   "execution_count": 152,
   "metadata": {},
   "outputs": [],
   "source": [
    "\n",
    "np.random.seed(0)\n",
    "\n",
    "X, y = make_circles(n_samples=400, factor=.3, noise=.05)\n",
    "\n",
    "reds = y == 0\n",
    "\n",
    "blues = y == 1\n"
   ]
  },
  {
   "cell_type": "code",
   "execution_count": 173,
   "metadata": {},
   "outputs": [],
   "source": [
    "class myKernelPCA(KernelPCA):\n",
    "    def __init__(self, n_components=None, kernel=\"linear\",\n",
    "                 gamma=None, degree=3, coef0=1, kernel_params=None,\n",
    "                 alpha=1.0, fit_inverse_transform=False, eigen_solver='auto',\n",
    "                 tol=0, max_iter=None, remove_zero_eig=False,\n",
    "                 random_state=None, copy_X=True, n_jobs=None, k=1):\n",
    "        self.k = k\n",
    "        super(myKernelPCA, self).__init__(n_components=None,  kernel=\"linear\",\n",
    "                 gamma=None, degree=3, coef0=1, kernel_params=None,\n",
    "                 alpha=1.0, fit_inverse_transform=False, eigen_solver='auto',\n",
    "                 tol=0, max_iter=None, remove_zero_eig=False,\n",
    "                 random_state=None, copy_X=True, n_jobs=None)\n",
    "\n",
    "    \n",
    "    def inverse_transform(self, X):\n",
    "        λ_non_zeros = np.flatnonzero(self.lambdas_)\n",
    "        α = np.zeros_like(self.alphas_)\n",
    "        α[:, λ_non_zeros] = (self.alphas_[:, λ_non_zeros]\n",
    "                                       / np.sqrt(self.lambdas_[λ_non_zeros]))\n",
    "        \n",
    "        \n",
    "        KX_ = self._get_kernel(X, self.X_fit_)\n",
    " \n",
    "        KX_ = self._centerer.transform(KX_)\n",
    "    \n",
    "        β = KX_.dot(α)\n",
    "        \n",
    "        γ = β.dot(α.T)\n",
    "        \n",
    "        epochs = 6000\n",
    "        i = 0\n",
    "        Z = np.random.randn(*X.shape)\n",
    "        denoms = []\n",
    "        trk = []\n",
    "        for i in tqdm(range(epochs)):\n",
    "            \n",
    "            KZ_ = self._get_kernel(Z, self.X_fit_)\n",
    " \n",
    "            KZ_center  = KZ_.mean(axis=1)\n",
    "#             KZ_ = KZ_ - KZ_center[...,None]\n",
    "            denom =  np.zeros(Z.shape[0])\n",
    "            num = np.zeros(Z.shape)\n",
    "            for j in range(len(Z)):\n",
    "                denom[j] = (KZ_[j,:] * γ[j,:]).sum() # + KZ_center * γ.sum(axis=1) * 0\n",
    "                num[j, :] =  ( (KZ_[j,:] * γ[j,:])[..., None] * ( self.X_fit_ ) ).sum(axis=0)  #+ KZ_.dot( self.X_fit_ ) * γ.sum(axis=1)[...,None] *  0\n",
    "\n",
    "#             denom = (KZ_ * γ).sum(axis=1) + KZ_center * γ.sum(axis=1) * 0\n",
    "#             num = (KZ_* γ).dot( self.X_fit_ )   + KZ_.dot( self.X_fit_ ) * γ.sum(axis=1)[...,None] * 0\n",
    "            \n",
    "            Z_new = num / denom[..., None]\n",
    "            \n",
    "            trk.append(np.abs(Z_new - Z).max())\n",
    "            denoms.append(np.abs(denom).min())\n",
    "            \n",
    "            Z = Z_new\n",
    "        print(min(denoms))\n",
    "        print((trk[-1], min(trk)))\n",
    "        return Z\n",
    "            \n",
    "\n",
    "    "
   ]
  },
  {
   "cell_type": "code",
   "execution_count": 174,
   "metadata": {},
   "outputs": [
    {
     "data": {
      "text/plain": [
       "myKernelPCA(alpha=1.0, coef0=1, copy_X=True, degree=3, eigen_solver='auto',\n",
       "            fit_inverse_transform=False, gamma=None, k=1, kernel='linear',\n",
       "            kernel_params=None, max_iter=None, n_components=None, n_jobs=None,\n",
       "            random_state=None, remove_zero_eig=False, tol=0)"
      ]
     },
     "execution_count": 174,
     "metadata": {},
     "output_type": "execute_result"
    }
   ],
   "source": [
    "np.random.seed(0)\n",
    "\n",
    "kpca2 = myKernelPCA(kernel=\"rbf\", fit_inverse_transform=False)\n",
    "\n",
    "kpca2.fit(X[blues,:])"
   ]
  },
  {
   "cell_type": "code",
   "execution_count": 175,
   "metadata": {},
   "outputs": [
    {
     "data": {
      "text/plain": [
       "(200, 2)"
      ]
     },
     "execution_count": 175,
     "metadata": {},
     "output_type": "execute_result"
    }
   ],
   "source": [
    "X[blues,:].shape\n"
   ]
  },
  {
   "cell_type": "code",
   "execution_count": 176,
   "metadata": {},
   "outputs": [
    {
     "data": {
      "text/plain": [
       "(90,)"
      ]
     },
     "execution_count": 176,
     "metadata": {},
     "output_type": "execute_result"
    }
   ],
   "source": [
    "kpca2.lambdas_.shape"
   ]
  },
  {
   "cell_type": "code",
   "execution_count": 177,
   "metadata": {
    "scrolled": true
   },
   "outputs": [
    {
     "name": "stdout",
     "output_type": "stream",
     "text": [
      "(400, 93)\n"
     ]
    },
    {
     "data": {
      "application/vnd.jupyter.widget-view+json": {
       "model_id": "03a588e8b3064dfbb7855c49515ecaca",
       "version_major": 2,
       "version_minor": 0
      },
      "text/plain": [
       "HBox(children=(IntProgress(value=0, max=6000), HTML(value='')))"
      ]
     },
     "metadata": {},
     "output_type": "display_data"
    },
    {
     "name": "stdout",
     "output_type": "stream",
     "text": [
      "\n",
      "0.00012072703811583096\n",
      "(0.395647995350771, 0.395647995350771)\n"
     ]
    },
    {
     "data": {
      "image/png": "[encoded data removed]",
      "text/plain": [
       "<Figure size 432x288 with 1 Axes>"
      ]
     },
     "metadata": {
      "needs_background": "light"
     },
     "output_type": "display_data"
    }
   ],
   "source": [
    "\n",
    "for d in range(2):\n",
    "    kpca2 = myKernelPCA(n_components=2, kernel=\"rbf\", fit_inverse_transform=False)\n",
    "    kpca2.fit(X[reds,:])\n",
    "    \n",
    "    \n",
    "    X_kpca2 = kpca2.transform(X)\n",
    "    Xk = np.copy(X_kpca2 )\n",
    "\n",
    "    sel = list(range(Xk.shape[1]))\n",
    "    sel.remove(d)\n",
    "\n",
    "    X_kpca2[:,d+1:] = 0\n",
    "    print(X_kpca2.shape)\n",
    "    \n",
    "#     X_prime0 = kpca2.inverse_transform(X_kpca2)\n",
    "    X_prime = kpca2.inverse_transform(X)\n",
    "#     X_prime2 = X -  X_prime0\n",
    "#     print(primo.shape)\n",
    "\n",
    "    plt.scatter(X_prime[reds, 0], X_prime[reds, 1], c=\"red\",\n",
    "                s=20, edgecolor='k')\n",
    "    plt.scatter(X_prime[blues, 0], X_prime[blues, 1], c=\"blue\",\n",
    "                s=20, edgecolor='k')\n",
    "#     print(nul.shape)\n",
    "#     print(nul[i,:].shape)\n",
    "#     for i in range(X_prime.shape[0]):\n",
    "#         plt.plot([nul[i,0], rng[i,0]], [nul[i,1], rng[i,1]],\"-y\", linewidth=0.5, alpha=1)\n",
    "    \n",
    "#     plt.scatter(nul[reds, 0], nul[reds, 1], c=\"purple\",\n",
    "#                 s=20, edgecolor='k')\n",
    "#     plt.scatter(nul[blues, 0], nul[blues, 1], c=\"cyan\",\n",
    "#                 s=20, edgecolor='k')\n",
    "    \n",
    "    \n",
    "#     plt.scatter(rng[reds, 0], rng[reds, 1], c=\"purple\",\n",
    "#                 s=20, edgecolor='k')\n",
    "#     plt.scatter(rng[blues, 0], rng[blues, 1], c=\"cyan\",\n",
    "#                 s=20, edgecolor='k')\n",
    "    \n",
    "#     plt.scatter(X[reds, 0], X[reds, 1], c=\"purple\",\n",
    "#                 s=20, edgecolor='k')\n",
    "#     plt.scatter(X[blues, 0], X[blues, 1], c=\"cyan\",\n",
    "#                 s=20, edgecolor='k')\n",
    "    plt.xlabel(\"$x_1$\")\n",
    "    plt.ylabel(\"$x_2$\")\n",
    "    plt.show()\n",
    "    break\n",
    "#     break\n"
   ]
  },
  {
   "cell_type": "code",
   "execution_count": 137,
   "metadata": {},
   "outputs": [
    {
     "data": {
      "text/plain": [
       "array([[ 0.65564692,  0.        ,  0.        , ...,  0.        ,\n",
       "         0.        ,  0.        ],\n",
       "       [ 0.03586121,  0.        ,  0.        , ...,  0.        ,\n",
       "         0.        ,  0.        ],\n",
       "       [ 0.25922064,  0.        ,  0.        , ...,  0.        ,\n",
       "         0.        ,  0.        ],\n",
       "       ...,\n",
       "       [ 0.17195595,  0.        ,  0.        , ...,  0.        ,\n",
       "         0.        ,  0.        ],\n",
       "       [-1.01134965,  0.        ,  0.        , ...,  0.        ,\n",
       "         0.        ,  0.        ],\n",
       "       [ 0.94215128,  0.        ,  0.        , ...,  0.        ,\n",
       "         0.        ,  0.        ]])"
      ]
     },
     "execution_count": 137,
     "metadata": {},
     "output_type": "execute_result"
    }
   ],
   "source": [
    "X_kpca2"
   ]
  },
  {
   "cell_type": "code",
   "execution_count": 43,
   "metadata": {},
   "outputs": [
    {
     "ename": "NameError",
     "evalue": "name 'X_back2' is not defined",
     "output_type": "error",
     "traceback": [
      "\u001b[1;31m---------------------------------------------------------------------------\u001b[0m",
      "\u001b[1;31mNameError\u001b[0m                                 Traceback (most recent call last)",
      "\u001b[1;32m<ipython-input-43-c057257e297d>\u001b[0m in \u001b[0;36m<module>\u001b[1;34m\u001b[0m\n\u001b[1;32m----> 1\u001b[1;33m \u001b[0mX_prime\u001b[0m \u001b[1;33m=\u001b[0m \u001b[0mX\u001b[0m \u001b[1;33m-\u001b[0m \u001b[0mX_back2\u001b[0m\u001b[1;33m\u001b[0m\u001b[1;33m\u001b[0m\u001b[0m\n\u001b[0m",
      "\u001b[1;31mNameError\u001b[0m: name 'X_back2' is not defined"
     ]
    }
   ],
   "source": [
    "X_prime = X - X_back2"
   ]
  },
  {
   "cell_type": "code",
   "execution_count": 45,
   "metadata": {},
   "outputs": [
    {
     "data": {
      "text/plain": [
       "(400, 2)"
      ]
     },
     "execution_count": 45,
     "metadata": {},
     "output_type": "execute_result"
    }
   ],
   "source": [
    "X_prime.shape"
   ]
  },
  {
   "cell_type": "code",
   "execution_count": 25,
   "metadata": {},
   "outputs": [
    {
     "data": {
      "image/png": "[encoded data removed]",
      "text/plain": [
       "<Figure size 432x288 with 4 Axes>"
      ]
     },
     "metadata": {
      "needs_background": "light"
     },
     "output_type": "display_data"
    }
   ],
   "source": [
    "# Plot results\n",
    "\n",
    "plt.figure()\n",
    "plt.subplot(2, 2, 1, aspect='equal')\n",
    "plt.title(\"Original space\")\n",
    "reds = y == 0\n",
    "\n",
    "blues = y == 1\n",
    "\n",
    "plt.scatter(X[reds, 0], X[reds, 1], c=\"red\",\n",
    "            s=20, edgecolor='k')\n",
    "plt.scatter(X[blues, 0], X[blues, 1], c=\"blue\",\n",
    "            s=20, edgecolor='k')\n",
    "plt.xlabel(\"$x_1$\")\n",
    "plt.ylabel(\"$x_2$\")\n",
    "\n",
    "X1, X2 = np.meshgrid(np.linspace(-1.5, 1.5, 50), np.linspace(-1.5, 1.5, 50))\n",
    "X_grid = np.array([np.ravel(X1), np.ravel(X2)]).T\n",
    "# projection on the first principal component (in the phi space)\n",
    "Z_grid = kpca.transform(X_grid)[:, 0].reshape(X1.shape)\n",
    "plt.contour(X1, X2, Z_grid, colors='grey', linewidths=1, origin='lower')\n",
    "\n",
    "plt.subplot(2, 2, 2, aspect='equal')\n",
    "plt.scatter(X_pca[reds, 0], X_pca[reds, 1], c=\"red\",\n",
    "            s=20, edgecolor='k')\n",
    "plt.scatter(X_pca[blues, 0], X_pca[blues, 1], c=\"blue\",\n",
    "            s=20, edgecolor='k')\n",
    "plt.title(\"Projection by PCA\")\n",
    "plt.xlabel(\"1st principal component\")\n",
    "plt.ylabel(\"2nd component\")\n",
    "\n",
    "plt.subplot(2, 2, 3, aspect='equal')\n",
    "plt.scatter(X_kpca[reds, 0], X_kpca[reds, 1], c=\"red\",\n",
    "            s=20, edgecolor='k')\n",
    "plt.scatter(X_kpca[blues, 0], X_kpca[blues, 1], c=\"blue\",\n",
    "            s=20, edgecolor='k')\n",
    "plt.title(\"Projection by KPCA\")\n",
    "plt.xlabel(r\"1st principal component in space induced by $\\phi$\")\n",
    "plt.ylabel(\"2nd component\")\n",
    "\n",
    "plt.subplot(2, 2, 4, aspect='equal')\n",
    "plt.scatter(X_back[reds, 0], X_back[reds, 1], c=\"red\",\n",
    "            s=20, edgecolor='k')\n",
    "plt.scatter(X_back[blues, 0], X_back[blues, 1], c=\"blue\",\n",
    "            s=20, edgecolor='k')\n",
    "plt.title(\"Original space after inverse transform\")\n",
    "plt.xlabel(\"$x_1$\")\n",
    "plt.ylabel(\"$x_2$\")\n",
    "\n",
    "plt.tight_layout()\n",
    "plt.show()"
   ]
  },
  {
   "cell_type": "code",
   "execution_count": 63,
   "metadata": {},
   "outputs": [
    {
     "data": {
      "text/plain": [
       "Text(0, 0.5, '$x_2$')"
      ]
     },
     "execution_count": 63,
     "metadata": {},
     "output_type": "execute_result"
    },
    {
     "data": {
      "image/png": "[encoded data removed]",
      "text/plain": [
       "<Figure size 432x288 with 1 Axes>"
      ]
     },
     "metadata": {
      "needs_background": "light"
     },
     "output_type": "display_data"
    }
   ],
   "source": []
  },
  {
   "cell_type": "code",
   "execution_count": 57,
   "metadata": {},
   "outputs": [
    {
     "data": {
      "text/plain": [
       "Text(0, 0.5, '$x_2$')"
      ]
     },
     "execution_count": 57,
     "metadata": {},
     "output_type": "execute_result"
    },
    {
     "data": {
      "image/png": "[encoded data removed]",
      "text/plain": [
       "<Figure size 432x288 with 1 Axes>"
      ]
     },
     "metadata": {
      "needs_background": "light"
     },
     "output_type": "display_data"
    }
   ],
   "source": [
    "plt.scatter(X[blues, 0], X[blues, 1], c=\"blue\",\n",
    "            s=20, edgecolor='k')\n",
    "plt.xlabel(\"$x_1$\")\n",
    "plt.ylabel(\"$x_2$\")"
   ]
  },
  {
   "cell_type": "code",
   "execution_count": null,
   "metadata": {},
   "outputs": [],
   "source": []
  }
 ],
 "metadata": {
  "kernelspec": {
   "display_name": "Python 3",
   "language": "python",
   "name": "python3"
  },
  "language_info": {
   "codemirror_mode": {
    "name": "ipython",
    "version": 3
   },
   "file_extension": ".py",
   "mimetype": "text/x-python",
   "name": "python",
   "nbconvert_exporter": "python",
   "pygments_lexer": "ipython3",
   "version": "3.7.4"
  }
 },
 "nbformat": 4,
 "nbformat_minor": 2
}
